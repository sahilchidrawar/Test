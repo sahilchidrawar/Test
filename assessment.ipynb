{
 "cells": [
  {
   "cell_type": "code",
   "execution_count": 21,
   "id": "59e85e74",
   "metadata": {},
   "outputs": [
    {
     "name": "stdout",
     "output_type": "stream",
     "text": [
      "2\n"
     ]
    }
   ],
   "source": [
    "##Quection 1\n",
    "def check_score(listoflists):\n",
    "    flat_list = []\n",
    "    for xs in listoflists:\n",
    "        for x in xs:\n",
    "            flat_list.append(x)\n",
    "    k=0\n",
    "    for t in flat_list:\n",
    "        if t==\"#\":\n",
    "            k=k+5\n",
    "        elif t==\"O\":\n",
    "            k=k+3\n",
    "        elif t==\"X\":\n",
    "            k=k+1\n",
    "        elif t==\"!\":\n",
    "            k=k-1\n",
    "        elif t==\"!!\":\n",
    "            k=k-3\n",
    "        elif t==\"!!!\":\n",
    "            k=k-5\n",
    "    print(k)        \n",
    "\n",
    "check_score([[\"#\",\"!\"],[\"!!\",\"X\"]] )  \n"
   ]
  },
  {
   "cell_type": "code",
   "execution_count": 57,
   "id": "5a181f53",
   "metadata": {},
   "outputs": [
    {
     "name": "stdout",
     "output_type": "stream",
     "text": [
      "24\n"
     ]
    }
   ],
   "source": [
    "##Quection 2\n",
    "def combinations(list):\n",
    "    k=1\n",
    "    for i in list:\n",
    "        k=k*i\n",
    "    print (k)\n",
    "combinations((2,3))        "
   ]
  },
  {
   "cell_type": "code",
   "execution_count": 83,
   "id": "b159236b",
   "metadata": {},
   "outputs": [
    {
     "name": "stdout",
     "output_type": "stream",
     "text": [
      "SAHIL\n",
      "....-.......-..\n"
     ]
    }
   ],
   "source": [
    "##Quection 3\n",
    "\n",
    "MORSE_CODE_DICT = { 'A':'.-', 'B':'-...',\n",
    "'C':'-.-.', 'D':'-..', 'E':'.',\n",
    "'F':'..-.', 'G':'--.', 'H':'....',\n",
    "'I':'..', 'J':'.---', 'K':'-.-',\n",
    "'L':'.-..', 'M':'--', 'N':'-.',\n",
    "'O':'---', 'P':'.--.', 'Q':'--.-',\n",
    "'R':'.-.', 'S':'...', 'T':'-',\n",
    "'U':'..-', 'V':'...-', 'W':'.--',\n",
    "'X':'-..-', 'Y':'-.--', 'Z':'--..',\n",
    "'1':'.----', '2':'..---', '3':'...--',\n",
    "'4':'....-', '5':'.....', '6':'-....',\n",
    "'7':'--...', '8':'---..', '9':'----.',\n",
    "'0':'-----', ', ':'--..--', '.':'.-.-.-','?':'..--..', '/':'-..-.', '-':'-....-','(':'-.--.', ')':'-.--.-'}\n",
    "def encode_morse(list1):        \n",
    "    p=\"\"\n",
    "    for j in list1:\n",
    "        x=MORSE_CODE_DICT[j]\n",
    "        p=p+x    \n",
    "    print(p)\n",
    "encode_morse(input())    "
   ]
  },
  {
   "cell_type": "code",
   "execution_count": 93,
   "id": "d8743b1a",
   "metadata": {},
   "outputs": [
    {
     "name": "stdout",
     "output_type": "stream",
     "text": [
      "45\n",
      "True\n"
     ]
    }
   ],
   "source": [
    "##Quection 4\n",
    "\n",
    "def prime(num):\n",
    "    flag = False\n",
    "\n",
    "    if num > 1:\n",
    "        for i in range(2, num):\n",
    "            if (num % i) == 0:\n",
    "                flag = True\n",
    "                break\n",
    "\n",
    "    print(flag)\n",
    "prime(int(input()))"
   ]
  },
  {
   "cell_type": "code",
   "execution_count": 106,
   "id": "b6e56df4",
   "metadata": {},
   "outputs": [
    {
     "name": "stdout",
     "output_type": "stream",
     "text": [
      "['True', 'True', 'False', 'True', 'False']\n"
     ]
    }
   ],
   "source": [
    "##Quection 5\n",
    "\n",
    "def to_boolean_list(data):\n",
    "    k=0\n",
    "    list=[]\n",
    "    for i in data:\n",
    "        k=(ord(i)-64)\n",
    "        if k%2==0:\n",
    "            list.append(\"False\")\n",
    "        else:\n",
    "            list.append(\"True\")\n",
    "    print(list)\n",
    "to_boolean_list(\"SAHIL\")    "
   ]
  },
  {
   "cell_type": "code",
   "execution_count": null,
   "id": "ee6ef030",
   "metadata": {},
   "outputs": [],
   "source": []
  }
 ],
 "metadata": {
  "kernelspec": {
   "display_name": "Python 3 (ipykernel)",
   "language": "python",
   "name": "python3"
  },
  "language_info": {
   "codemirror_mode": {
    "name": "ipython",
    "version": 3
   },
   "file_extension": ".py",
   "mimetype": "text/x-python",
   "name": "python",
   "nbconvert_exporter": "python",
   "pygments_lexer": "ipython3",
   "version": "3.8.10"
  }
 },
 "nbformat": 4,
 "nbformat_minor": 5
}
